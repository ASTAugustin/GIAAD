{
 "cells": [
  {
   "cell_type": "code",
   "execution_count": 41,
   "metadata": {},
   "outputs": [],
   "source": [
    "import pandas as pd\n",
    "import numpy as np"
   ]
  },
  {
   "cell_type": "code",
   "execution_count": 42,
   "metadata": {},
   "outputs": [],
   "source": [
    "labels = np.load('../data/train.npy', allow_pickle=True)"
   ]
  },
  {
   "cell_type": "code",
   "execution_count": 43,
   "metadata": {},
   "outputs": [],
   "source": [
    "label_len = len(labels)"
   ]
  },
  {
   "cell_type": "code",
   "execution_count": 44,
   "metadata": {},
   "outputs": [],
   "source": [
    "data_main2 = pd.read_csv('../data/data_main2.csv', header=None)[0].values\n",
    "attacker_main2 = pd.read_csv('../attacker/attacker_main2.csv', header=None)[0].values\n",
    "\n",
    "data_layer_norm = pd.read_csv('../data/data_layer_norm.csv', header=None)[0].values\n",
    "attacker_layer_norm = pd.read_csv('../attacker/attacker_layer_norm.csv', header=None)[0].values\n",
    "\n",
    "data_layer_norm1 = pd.read_csv('../data/data_layer_norm1.csv', header=None)[0].values\n",
    "attacker_layer_norm1 = pd.read_csv('../attacker/attacker_layer_norm1.csv', header=None)[0].values\n",
    "\n",
    "\n",
    "data_combined = pd.read_csv('../data/data_combined.csv', header=None)[0].values\n",
    "attacker_combined = pd.read_csv('../attacker/attacker_combined.csv', header=None)[0].values\n"
   ]
  },
  {
   "cell_type": "code",
   "execution_count": 45,
   "metadata": {},
   "outputs": [],
   "source": [
    "def accuracy(pred, actual):\n",
    "    return sum(pred==actual)/len(actual)"
   ]
  },
  {
   "cell_type": "code",
   "execution_count": 46,
   "metadata": {},
   "outputs": [
    {
     "data": {
      "text/plain": [
       "(0.6788511321020909, 0.6579463691036691)"
      ]
     },
     "execution_count": 46,
     "metadata": {},
     "output_type": "execute_result"
    }
   ],
   "source": [
    "accuracy(data_main2[:label_len], labels), accuracy(attacker_main2[:label_len], labels)"
   ]
  },
  {
   "cell_type": "code",
   "execution_count": 47,
   "metadata": {},
   "outputs": [
    {
     "data": {
      "text/plain": [
       "(0.6862759894614928, 0.6853950463766499)"
      ]
     },
     "execution_count": 47,
     "metadata": {},
     "output_type": "execute_result"
    }
   ],
   "source": [
    "accuracy(data_layer_norm[:label_len], labels), accuracy(attacker_layer_norm[:label_len], labels)"
   ]
  },
  {
   "cell_type": "code",
   "execution_count": 48,
   "metadata": {},
   "outputs": [
    {
     "data": {
      "text/plain": [
       "(0.6862759894614928, 0.6853950463766499)"
      ]
     },
     "execution_count": 48,
     "metadata": {},
     "output_type": "execute_result"
    }
   ],
   "source": [
    "accuracy(data_layer_norm1[:label_len], labels), accuracy(attacker_layer_norm1[:label_len], labels)"
   ]
  },
  {
   "cell_type": "code",
   "execution_count": 49,
   "metadata": {},
   "outputs": [
    {
     "data": {
      "text/plain": [
       "(0.6408623071193982, 0.6153822177455075)"
      ]
     },
     "execution_count": 49,
     "metadata": {},
     "output_type": "execute_result"
    }
   ],
   "source": [
    "accuracy(data_combined[:label_len], labels), accuracy(attacker_combined[:label_len], labels)"
   ]
  },
  {
   "cell_type": "markdown",
   "metadata": {},
   "source": [
    "Now care only about the target part."
   ]
  },
  {
   "cell_type": "code",
   "execution_count": 50,
   "metadata": {},
   "outputs": [],
   "source": [
    "data_main2 = pd.read_csv('../data/data_main2.csv', header=None)[0].values[label_len:label_len+50000]\n",
    "data_combined = pd.read_csv('../data/data_combined.csv', header=None)[0].values[label_len:label_len+50000]\n",
    "\n",
    "data_layer_norm = pd.read_csv('../data/data_layer_norm.csv', header=None)[0].values[label_len:label_len+50000]\n",
    "attacker_layer_norm = pd.read_csv('../attacker/attacker_layer_norm.csv', header=None)[0].values[label_len:label_len+50000]\n",
    "\n",
    "data_layer_norm1 = pd.read_csv('../data/data_layer_norm1.csv', header=None)[0].values[label_len:label_len+50000]\n",
    "attacker_layer_norm1 = pd.read_csv('../attacker/attacker_layer_norm1.csv', header=None)[0].values[label_len:label_len+50000]\n",
    "\n",
    "\n",
    "attacker_main2 = pd.read_csv('../attacker/attacker_main2.csv', header=None)[0].values[label_len:label_len+50000]\n",
    "attacker_combined = pd.read_csv('../attacker/attacker_combined.csv', header=None)[0].values[label_len:label_len+50000]"
   ]
  },
  {
   "cell_type": "code",
   "execution_count": 51,
   "metadata": {},
   "outputs": [
    {
     "data": {
      "text/plain": [
       "0.58434"
      ]
     },
     "execution_count": 51,
     "metadata": {},
     "output_type": "execute_result"
    }
   ],
   "source": [
    "accuracy(data_main2, attacker_main2)"
   ]
  },
  {
   "cell_type": "code",
   "execution_count": 52,
   "metadata": {},
   "outputs": [
    {
     "data": {
      "text/plain": [
       "0.87984"
      ]
     },
     "execution_count": 52,
     "metadata": {},
     "output_type": "execute_result"
    }
   ],
   "source": [
    "accuracy(data_layer_norm, attacker_layer_norm)"
   ]
  },
  {
   "cell_type": "code",
   "execution_count": 53,
   "metadata": {},
   "outputs": [
    {
     "data": {
      "text/plain": [
       "0.87984"
      ]
     },
     "execution_count": 53,
     "metadata": {},
     "output_type": "execute_result"
    }
   ],
   "source": [
    "accuracy(data_layer_norm1, attacker_layer_norm1)"
   ]
  },
  {
   "cell_type": "code",
   "execution_count": 54,
   "metadata": {},
   "outputs": [
    {
     "data": {
      "text/plain": [
       "0.26608"
      ]
     },
     "execution_count": 54,
     "metadata": {},
     "output_type": "execute_result"
    }
   ],
   "source": [
    "accuracy(data_combined, attacker_combined)"
   ]
  },
  {
   "cell_type": "code",
   "execution_count": 55,
   "metadata": {},
   "outputs": [],
   "source": [
    "from scipy import sparse as sp"
   ]
  },
  {
   "cell_type": "code",
   "execution_count": 56,
   "metadata": {},
   "outputs": [],
   "source": [
    "import torch"
   ]
  },
  {
   "cell_type": "code",
   "execution_count": 29,
   "metadata": {},
   "outputs": [],
   "source": [
    "def sparse_matrix_to_sparse_tensor(processed_adj):\n",
    "    sparserow = torch.LongTensor(processed_adj.row).unsqueeze(1)\n",
    "    sparsecol = torch.LongTensor(processed_adj.col).unsqueeze(1)\n",
    "    sparseconcat = torch.cat((sparserow, sparsecol), 1).cuda()\n",
    "    sparsedata = torch.FloatTensor(processed_adj.data).cuda()\n",
    "    adjtensor = torch.sparse.FloatTensor(sparseconcat.t(), sparsedata, torch.Size(processed_adj.shape)).cuda()\n",
    "    return adjtensor"
   ]
  },
  {
   "cell_type": "code",
   "execution_count": 36,
   "metadata": {},
   "outputs": [],
   "source": [
    "mx = sp.coo_matrix(([1, 1, 1, 1], ([0, 0, 1, 2], [1, 2, 2, 3])), shape=(4, 4))"
   ]
  },
  {
   "cell_type": "code",
   "execution_count": 38,
   "metadata": {},
   "outputs": [
    {
     "data": {
      "text/plain": [
       "array([0, 0, 1, 2], dtype=int32)"
      ]
     },
     "execution_count": 38,
     "metadata": {},
     "output_type": "execute_result"
    }
   ],
   "source": [
    "mx.row"
   ]
  },
  {
   "cell_type": "code",
   "execution_count": 39,
   "metadata": {},
   "outputs": [],
   "source": [
    "st = sparse_matrix_to_sparse_tensor(mx)"
   ]
  },
  {
   "cell_type": "code",
   "execution_count": 40,
   "metadata": {},
   "outputs": [
    {
     "data": {
      "text/plain": [
       "tensor(2., device='cuda:0')"
      ]
     },
     "execution_count": 40,
     "metadata": {},
     "output_type": "execute_result"
    }
   ],
   "source": [
    "torch.norm(st)"
   ]
  },
  {
   "cell_type": "code",
   "execution_count": null,
   "metadata": {},
   "outputs": [],
   "source": []
  }
 ],
 "metadata": {
  "kernelspec": {
   "display_name": "Python 3",
   "language": "python",
   "name": "python3"
  },
  "language_info": {
   "codemirror_mode": {
    "name": "ipython",
    "version": 3
   },
   "file_extension": ".py",
   "mimetype": "text/x-python",
   "name": "python",
   "nbconvert_exporter": "python",
   "pygments_lexer": "ipython3",
   "version": "3.7.4"
  }
 },
 "nbformat": 4,
 "nbformat_minor": 2
}
